{
 "cells": [
  {
   "attachments": {
    "mathematical equation.JPG": {
     "image/jpeg": "[encoded data removed]"
    }
   },
   "cell_type": "markdown",
   "metadata": {},
   "source": [
    "# This repo is an implmentation of PCA as an autoencoder in PyTorch\n",
    "![mathematical equation.JPG](<attachment:mathematical equation.JPG>)"
   ]
  },
  {
   "cell_type": "code",
   "execution_count": 31,
   "metadata": {},
   "outputs": [
    {
     "ename": "ImportError",
     "evalue": "cannot import name 'train_network' from 'utils' (d:\\projects\\git-hub\\PCA-as-autoencoders-implmentation_in_PyTorch\\utils.py)",
     "output_type": "error",
     "traceback": [
      "\u001b[1;31m---------------------------------------------------------------------------\u001b[0m",
      "\u001b[1;31mImportError\u001b[0m                               Traceback (most recent call last)",
      "Cell \u001b[1;32mIn[31], line 5\u001b[0m\n\u001b[0;32m      3\u001b[0m \u001b[39mimport\u001b[39;00m \u001b[39mtorch\u001b[39;00m\u001b[39m.\u001b[39;00m\u001b[39mnn\u001b[39;00m\u001b[39m.\u001b[39;00m\u001b[39mfunctional\u001b[39;00m \u001b[39mas\u001b[39;00m \u001b[39mF\u001b[39;00m\n\u001b[0;32m      4\u001b[0m \u001b[39mfrom\u001b[39;00m \u001b[39mutils\u001b[39;00m \u001b[39mimport\u001b[39;00m View\n\u001b[1;32m----> 5\u001b[0m \u001b[39mfrom\u001b[39;00m \u001b[39mutils\u001b[39;00m \u001b[39mimport\u001b[39;00m train_network\n\u001b[0;32m      6\u001b[0m \u001b[39mfrom\u001b[39;00m \u001b[39mtorch\u001b[39;00m\u001b[39m.\u001b[39;00m\u001b[39mutils\u001b[39;00m\u001b[39m.\u001b[39;00m\u001b[39mdata\u001b[39;00m \u001b[39mimport\u001b[39;00m Dataset, DataLoader\n\u001b[0;32m      7\u001b[0m \u001b[39mfrom\u001b[39;00m \u001b[39mtorchvision\u001b[39;00m \u001b[39mimport\u001b[39;00m datasets\n",
      "\u001b[1;31mImportError\u001b[0m: cannot import name 'train_network' from 'utils' (d:\\projects\\git-hub\\PCA-as-autoencoders-implmentation_in_PyTorch\\utils.py)"
     ]
    }
   ],
   "source": [
    "import torch\n",
    "from torch import nn\n",
    "import torch.nn.functional as F\n",
    "from utils import View\n",
    "from utils import train_network\n",
    "from torch.utils.data import Dataset, DataLoader\n",
    "from torchvision import datasets\n",
    "from torchvision.datasets import MNIST\n",
    "from torchvision import transforms"
   ]
  },
  {
   "cell_type": "code",
   "execution_count": 5,
   "metadata": {},
   "outputs": [],
   "source": [
    "D=28*28               # Dimension of the input data\n",
    "n=2                   # no of hidden layers\n",
    "C=1                   # no of channels\n",
    "classes=10            # output classes"
   ]
  },
  {
   "cell_type": "code",
   "execution_count": 15,
   "metadata": {},
   "outputs": [],
   "source": [
    "device = 'cuda' if torch.cuda.is_available() else 'cpu'"
   ]
  },
  {
   "cell_type": "code",
   "execution_count": 6,
   "metadata": {},
   "outputs": [],
   "source": [
    "class TransposeLinear(nn.Module):\n",
    "    def __init__(self,linearlayer,bias=True):\n",
    "        '''\n",
    "        This function takes a linear layer and\n",
    "        transposes it through weight sharing techniques \n",
    "        bias term = True means we will create a new bias for the transposed layer\n",
    "        '''\n",
    "        super().__init__()\n",
    "        self.weight = linearlayer.weight\n",
    "\n",
    "        if bias:\n",
    "            self.bias = nn.Parameter(torch.Tensor(linearlayer.weight.shape[1]))\n",
    "        else:\n",
    "            self.register_parameter('bias',None)\n",
    "\n",
    "\n",
    "    def forward(self,x:torch.Tensor):\n",
    "        return F.linear(x,self.weight.t(),self.bias)"
   ]
  },
  {
   "cell_type": "code",
   "execution_count": 9,
   "metadata": {},
   "outputs": [],
   "source": [
    "#Since we will share the weights of the linear layer, lets define it separately\n",
    "linearLayer = nn.Linear(D,  n, bias=False)\n",
    "#The encoder just falltens and then uses the linear layer\n",
    "PCA_encoder = nn.Sequential(\n",
    "    nn.Flatten(),\n",
    "    linearLayer,\n",
    ")\n",
    "#The decoder uses our TransposeLinear layer + the now shared linearLayer object \n",
    "PCA_decoder = nn.Sequential(\n",
    "    TransposeLinear(linearLayer, bias=False),\n",
    "    View(-1, 1, 28, 28)#Shape the data back to it's original form [View function is imported from utils.py]\n",
    ")"
   ]
  },
  {
   "cell_type": "code",
   "execution_count": 10,
   "metadata": {},
   "outputs": [],
   "source": [
    "#Define a final PCA model that is the sequence of an encoder, followed by a decoder\n",
    "PCA_model = nn.Sequential(\n",
    "    PCA_encoder,\n",
    "    PCA_decoder\n",
    ")"
   ]
  },
  {
   "attachments": {},
   "cell_type": "markdown",
   "metadata": {},
   "source": [
    "### We have everything we need to train up this autoencoder. \n",
    "But to make it truly PCA, we need to add\n",
    "the W*W⊤ = I constraint.\n",
    " This constraint has a name: orthogonality."
   ]
  },
  {
   "cell_type": "code",
   "execution_count": 14,
   "metadata": {},
   "outputs": [
    {
     "data": {
      "text/plain": [
       "Parameter containing:\n",
       "tensor([[ 0.0688,  0.0531,  0.0322,  ...,  0.0275, -0.0274, -0.0339],\n",
       "        [ 0.0017,  0.0038,  0.0273,  ...,  0.0153, -0.0002, -0.0210]],\n",
       "       requires_grad=True)"
      ]
     },
     "execution_count": 14,
     "metadata": {},
     "output_type": "execute_result"
    }
   ],
   "source": [
    "torch.manual_seed(42)\n",
    "nn.init.orthogonal_(linearLayer.weight)"
   ]
  },
  {
   "cell_type": "code",
   "execution_count": 16,
   "metadata": {},
   "outputs": [],
   "source": [
    "mse_loss = nn.MSELoss() #Original loss function\n",
    "\n",
    "def mseWithOrthoLoss(x, y):#our PCA loss function\n",
    "    #Grabing W from the linearLayer object we saved earlier. \n",
    "    W = linearLayer.weight\n",
    "    #The identity matrix that is the target for the regularized\n",
    "    I = torch.eye(W.shape[0]).to(device)\n",
    "    #compute the original loss $\\ell_{\\mathit{MSE}}(f(\\boldsymbol{x}), \\boldsymbol{x})$\n",
    "    normal_loss =  mse_loss(x, y) \n",
    "    #compute the regularizer penalty $\\ell_{\\mathit{MSE}}(W^\\top W, \\boldsymbol{I})$\n",
    "    regularization_loss = 0.1*mse_loss(torch.mm(W, W.t()), I)\n",
    "    #return the sum of the two losses\n",
    "    return normal_loss + regularization_loss"
   ]
  },
  {
   "cell_type": "code",
   "execution_count": 19,
   "metadata": {},
   "outputs": [],
   "source": [
    "class AutoEncodeDataset(Dataset):\n",
    "    \"\"\"Takes a dataset with (x, y) label pairs and converts it to (x, x) pairs. \n",
    "    This makes it easy to re-use other code\"\"\"\n",
    "\n",
    "    def __init__(self, dataset):\n",
    "        self.dataset = dataset\n",
    "\n",
    "    def __len__(self):\n",
    "        return len(self.dataset)\n",
    "\n",
    "    def __getitem__(self, idx):\n",
    "        x, y = self.dataset.__getitem__(idx)\n",
    "        return x, x#just throw away the original label. "
   ]
  },
  {
   "cell_type": "code",
   "execution_count": null,
   "metadata": {},
   "outputs": [],
   "source": [
    "train_data = AutoEncodeDataset(MNIST(\"./\", train=True, transform=transforms.ToTensor(), download=True))\n",
    "test_data_xy = MNIST(\"./\", train=False, transform=transforms.ToTensor(), download=True)\n",
    "test_data_xx = AutoEncodeDataset(test_data_xy)\n",
    "\n",
    "train_loader = DataLoader(train_data, batch_size=128, shuffle=True)\n",
    "test_loader = DataLoader(test_data_xx, batch_size=128)"
   ]
  },
  {
   "cell_type": "code",
   "execution_count": 30,
   "metadata": {},
   "outputs": [
    {
     "ename": "NameError",
     "evalue": "name 'train_network' is not defined",
     "output_type": "error",
     "traceback": [
      "\u001b[1;31m---------------------------------------------------------------------------\u001b[0m",
      "\u001b[1;31mNameError\u001b[0m                                 Traceback (most recent call last)",
      "Cell \u001b[1;32mIn[30], line 1\u001b[0m\n\u001b[1;32m----> 1\u001b[0m train_network(PCA_model, mseWithOrthoLoss, train_loader, test_loader\u001b[39m=\u001b[39mtest_loader, epochs\u001b[39m=\u001b[39m\u001b[39m10\u001b[39m, device\u001b[39m=\u001b[39mdevice)\n",
      "\u001b[1;31mNameError\u001b[0m: name 'train_network' is not defined"
     ]
    }
   ],
   "source": [
    "train_network(PCA_model, mseWithOrthoLoss, train_loader, test_loader=test_loader, epochs=10, device=device)"
   ]
  },
  {
   "cell_type": "code",
   "execution_count": null,
   "metadata": {},
   "outputs": [],
   "source": []
  }
 ],
 "metadata": {
  "kernelspec": {
   "display_name": "Python 3",
   "language": "python",
   "name": "python3"
  },
  "language_info": {
   "codemirror_mode": {
    "name": "ipython",
    "version": 3
   },
   "file_extension": ".py",
   "mimetype": "text/x-python",
   "name": "python",
   "nbconvert_exporter": "python",
   "pygments_lexer": "ipython3",
   "version": "3.10.4"
  },
  "orig_nbformat": 4
 },
 "nbformat": 4,
 "nbformat_minor": 2
}
