{
 "cells": [
  {
   "cell_type": "code",
   "execution_count": 4,
   "metadata": {},
   "outputs": [],
   "source": [
    "import torch\n",
    "from torch import nn\n",
    "import torch.nn.functional as F"
   ]
  },
  {
   "cell_type": "code",
   "execution_count": 2,
   "metadata": {},
   "outputs": [],
   "source": [
    "D=28*28\n",
    "n=2\n",
    "C=1\n",
    "classes=10"
   ]
  },
  {
   "cell_type": "code",
   "execution_count": null,
   "metadata": {},
   "outputs": [],
   "source": [
    "class TransposeLinear(nn.Module):\n",
    "    def __init__(self,linearlayer,bias=True):\n",
    "        '''\n",
    "        This function takes a linear layer and\n",
    "        transposes it through weight sharing techniques \n",
    "        bias term = True means we will create a new bias for the transposed layer\n",
    "        '''\n",
    "        super().__init__()\n",
    "        self.weight = linearlayer.weight\n",
    "\n",
    "        if bias:\n",
    "            self.bias = nn.Parameter(torch.Tensor(linearlayer.weight.shape[1]))\n",
    "        else:\n",
    "            self.register_parameter('bias',None)\n",
    "\n",
    "\n",
    "    def forward(self,x:torch.Tensor):\n",
    "        return F.linear(x,self.weight.t(),self.bias)"
   ]
  },
  {
   "cell_type": "code",
   "execution_count": null,
   "metadata": {},
   "outputs": [],
   "source": []
  },
  {
   "cell_type": "code",
   "execution_count": null,
   "metadata": {},
   "outputs": [],
   "source": []
  },
  {
   "cell_type": "code",
   "execution_count": null,
   "metadata": {},
   "outputs": [],
   "source": []
  }
 ],
 "metadata": {
  "kernelspec": {
   "display_name": "Python 3",
   "language": "python",
   "name": "python3"
  },
  "language_info": {
   "codemirror_mode": {
    "name": "ipython",
    "version": 3
   },
   "file_extension": ".py",
   "mimetype": "text/x-python",
   "name": "python",
   "nbconvert_exporter": "python",
   "pygments_lexer": "ipython3",
   "version": "3.10.4"
  },
  "orig_nbformat": 4
 },
 "nbformat": 4,
 "nbformat_minor": 2
}
